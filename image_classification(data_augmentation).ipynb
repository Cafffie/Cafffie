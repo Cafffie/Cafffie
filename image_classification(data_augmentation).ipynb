{
  "cells": [
    {
      "cell_type": "markdown",
      "metadata": {
        "id": "view-in-github",
        "colab_type": "text"
      },
      "source": [
        "<a href=\"https://colab.research.google.com/github/Cafffie/Cafffie/blob/main/image_classification(data_augmentation).ipynb\" target=\"_parent\"><img src=\"https://colab.research.google.com/assets/colab-badge.svg\" alt=\"Open In Colab\"/></a>"
      ]
    },
    {
      "cell_type": "code",
      "execution_count": null,
      "metadata": {
        "colab": {
          "background_save": true
        },
        "id": "XJpFNxOs-Fkq"
      },
      "outputs": [],
      "source": [
        "import matplotlib.pyplot as plt\n",
        "import numpy as np\n",
        "import tensorflow as tf\n",
        "import cv2\n",
        "import PIL.Image as Image\n",
        "import os\n",
        "import pathlib\n",
        "\n",
        "\n",
        "from tensorflow import keras\n",
        "from tensorflow.keras import layers\n",
        "from tensorflow.keras.models import Sequential\n",
        "from sklearn.model_selection import train_test_split"
      ]
    },
    {
      "cell_type": "code",
      "execution_count": null,
      "metadata": {
        "colab": {
          "background_save": true
        },
        "id": "tOFzIGEfH512"
      },
      "outputs": [],
      "source": [
        "dataset_url= \"https://storage.googleapis.com/download.tensorflow.org/example_images/flower_photos.tgz\"\n",
        "data_dir= tf.keras.utils.get_file('flower_photos', origin= dataset_url, cache_dir= '.', untar=True)"
      ]
    },
    {
      "cell_type": "code",
      "execution_count": null,
      "metadata": {
        "colab": {
          "background_save": true
        },
        "id": "QHGX2s0YJN09"
      },
      "outputs": [],
      "source": [
        "data_dir"
      ]
    },
    {
      "cell_type": "code",
      "execution_count": null,
      "metadata": {
        "colab": {
          "background_save": true
        },
        "id": "qTTEBiQgJcmS"
      },
      "outputs": [],
      "source": [
        "data_dir= pathlib.Path(data_dir)\n",
        "data_dir"
      ]
    },
    {
      "cell_type": "code",
      "execution_count": null,
      "metadata": {
        "colab": {
          "background_save": true
        },
        "id": "LQj8Ml-MKAW8"
      },
      "outputs": [],
      "source": [
        "list(data_dir.glob(\"*/*.jpg\"))[:5]"
      ]
    },
    {
      "cell_type": "code",
      "execution_count": null,
      "metadata": {
        "colab": {
          "background_save": true
        },
        "id": "oLscxvYPK4sy"
      },
      "outputs": [],
      "source": [
        "image_count= len(list(data_dir.glob(\"*/*.jpg\")))\n",
        "image_count"
      ]
    },
    {
      "cell_type": "code",
      "execution_count": null,
      "metadata": {
        "colab": {
          "background_save": true
        },
        "id": "-_puREA_LGO9"
      },
      "outputs": [],
      "source": [
        "roses= list(data_dir.glob(\"roses/*\"))\n",
        "roses[:5]"
      ]
    },
    {
      "cell_type": "code",
      "execution_count": null,
      "metadata": {
        "colab": {
          "background_save": true
        },
        "id": "6-khTUW0KdoT"
      },
      "outputs": [],
      "source": [
        "Image.open(roses[5])"
      ]
    },
    {
      "cell_type": "code",
      "execution_count": null,
      "metadata": {
        "colab": {
          "background_save": true
        },
        "id": "lwhLAoDdMdqs"
      },
      "outputs": [],
      "source": [
        "#cv2.imread('/content/datasets/flower_photos/roses/10503217854_e66a804309.jpg')"
      ]
    },
    {
      "cell_type": "code",
      "execution_count": null,
      "metadata": {
        "colab": {
          "background_save": true
        },
        "id": "AdwDKuz8dHrz"
      },
      "outputs": [],
      "source": [
        "#str(flower_images_dict[\"roses\"][0])"
      ]
    },
    {
      "cell_type": "code",
      "execution_count": null,
      "metadata": {
        "colab": {
          "background_save": true
        },
        "id": "Nm1naZjIdLJF"
      },
      "outputs": [],
      "source": [
        "#flower_images_dict[\"roses\"][0]"
      ]
    },
    {
      "cell_type": "code",
      "execution_count": null,
      "metadata": {
        "colab": {
          "background_save": true
        },
        "id": "yUihpQGgOZV7"
      },
      "outputs": [],
      "source": [
        "flower_images_dict= {\n",
        "    \"roses\": list(data_dir.glob(\"roses/*\")),\n",
        "    \"daisy\": list(data_dir.glob(\"daisy/*\")),\n",
        "    \"dandelion\": list(data_dir.glob(\"dandelion/*\")),\n",
        "    \"tulips\": list(data_dir.glob(\"tulips/*\")),\n",
        "    \"sunflowers\": list(data_dir.glob(\"sunflowers/*\"))\n",
        "}"
      ]
    },
    {
      "cell_type": "code",
      "execution_count": null,
      "metadata": {
        "colab": {
          "background_save": true
        },
        "id": "D9nItEyDQcq2"
      },
      "outputs": [],
      "source": [
        "flower_labels_dict= {\n",
        "    \"roses\": 0,\n",
        "    \"daisy\": 1,\n",
        "    \"dandelion\": 2,\n",
        "    \"tulips\": 3,\n",
        "    \"sunflowers\": 4\n",
        "}"
      ]
    },
    {
      "cell_type": "code",
      "execution_count": null,
      "metadata": {
        "colab": {
          "background_save": true
        },
        "id": "G5mVc90GQMJG"
      },
      "outputs": [],
      "source": [
        "len(flower_images_dict[\"roses\"])"
      ]
    },
    {
      "cell_type": "code",
      "execution_count": null,
      "metadata": {
        "colab": {
          "background_save": true
        },
        "id": "GHVHm9VkS1dk"
      },
      "outputs": [],
      "source": [
        "img= cv2.imread(str(flower_images_dict[\"roses\"][0]))\n",
        "img.shape"
      ]
    },
    {
      "cell_type": "code",
      "execution_count": null,
      "metadata": {
        "colab": {
          "background_save": true
        },
        "id": "qJdteVAFLP2k"
      },
      "outputs": [],
      "source": [
        "img_height"
      ]
    },
    {
      "cell_type": "code",
      "execution_count": null,
      "metadata": {
        "colab": {
          "background_save": true
        },
        "id": "GkjJKOtbV8Zr"
      },
      "outputs": [],
      "source": [
        "cv2.resize(img, (180, 180)).shape"
      ]
    },
    {
      "cell_type": "code",
      "execution_count": null,
      "metadata": {
        "colab": {
          "background_save": true
        },
        "id": "SBHtvFXrWRyz"
      },
      "outputs": [],
      "source": [
        "X, y= [], []\n",
        "\n",
        "for flowers, images in flower_images_dict.items():\n",
        "  for image in images:\n",
        "    img= cv2.imread(str(image))\n",
        "    resized_img= cv2.resize(img, (180, 180))\n",
        "    X.append(resized_img)\n",
        "    y.append(flower_labels_dict[flowers])"
      ]
    },
    {
      "cell_type": "code",
      "execution_count": null,
      "metadata": {
        "colab": {
          "background_save": true
        },
        "id": "YiAMzq9HXBf7"
      },
      "outputs": [],
      "source": [
        "X = np.array(X)\n",
        "y= np.array(y)"
      ]
    },
    {
      "cell_type": "code",
      "execution_count": null,
      "metadata": {
        "colab": {
          "background_save": true
        },
        "id": "diWxCWLwetfn"
      },
      "outputs": [],
      "source": [
        "X_train, X_test, y_train, y_test= train_test_split(X, y, random_state=0)"
      ]
    },
    {
      "cell_type": "code",
      "execution_count": null,
      "metadata": {
        "colab": {
          "background_save": true
        },
        "id": "XVkxXuLufh5M"
      },
      "outputs": [],
      "source": [
        "X_train_scaled = X_train/255\n",
        "X_test_scaled = X_test/255"
      ]
    },
    {
      "cell_type": "code",
      "execution_count": null,
      "metadata": {
        "colab": {
          "background_save": true
        },
        "id": "As8MLz2ifZW0"
      },
      "outputs": [],
      "source": [
        "num_classes= 5\n",
        "model= Sequential([\n",
        "    layers.Conv2D(16, 3, padding='same', activation='relu'),\n",
        "    layers.MaxPooling2D(),\n",
        "    layers.Conv2D(32, 3, padding='same', activation='relu'),\n",
        "    layers.MaxPooling2D(),\n",
        "    layers.Conv2D(64, 3, padding='same', activation='relu'),\n",
        "    layers.MaxPooling2D(),\n",
        "    layers.Flatten(),\n",
        "    layers.Dense(128, activation='relu'),\n",
        "    layers.Dense(num_classes)\n",
        "])\n",
        "model.compile(optimizer='adam',\n",
        "              loss= tf.keras.losses.SparseCategoricalCrossentropy(from_logits=True),\n",
        "              metrics= ['acc'])\n",
        "\n",
        "model.fit(X_train_scaled, y_train, epochs=25)"
      ]
    },
    {
      "cell_type": "code",
      "execution_count": null,
      "metadata": {
        "colab": {
          "background_save": true
        },
        "id": "EvC6mfeEGAJC"
      },
      "outputs": [],
      "source": [
        "model.evaluate(X_test_scaled, y_test)"
      ]
    },
    {
      "cell_type": "code",
      "execution_count": null,
      "metadata": {
        "colab": {
          "background_save": true
        },
        "id": "3ylohurK95Ee"
      },
      "outputs": [],
      "source": [
        "data_augmentation= keras.Sequential([\n",
        "    layers.experimental.preprocessing.RandomRotation(0.5)\n",
        "])"
      ]
    },
    {
      "cell_type": "code",
      "execution_count": null,
      "metadata": {
        "colab": {
          "background_save": true
        },
        "id": "GKSdlODgFXCG"
      },
      "outputs": [],
      "source": [
        "plt.axis('off')\n",
        "plt.imshow(X[7])"
      ]
    },
    {
      "cell_type": "code",
      "execution_count": null,
      "metadata": {
        "colab": {
          "background_save": true
        },
        "id": "nOWN9jhIFq0s"
      },
      "outputs": [],
      "source": [
        "plt.axis('off')\n",
        "plt.imshow(data_augmentation(X)[0].numpy().astype('uint8'))"
      ]
    },
    {
      "cell_type": "code",
      "execution_count": null,
      "metadata": {
        "colab": {
          "background_save": true
        },
        "id": "11fPRhXPHL_t"
      },
      "outputs": [],
      "source": [
        "data_augmentation= keras.Sequential([\n",
        "    layers.experimental.preprocessing.RandomZoom(0.5)\n",
        "])"
      ]
    },
    {
      "cell_type": "code",
      "execution_count": null,
      "metadata": {
        "colab": {
          "background_save": true
        },
        "id": "knLvhw25HZFB"
      },
      "outputs": [],
      "source": [
        "plt.axis('off')\n",
        "plt.imshow(data_augmentation(X)[7].numpy().astype('uint8'))"
      ]
    },
    {
      "cell_type": "code",
      "execution_count": null,
      "metadata": {
        "colab": {
          "background_save": true
        },
        "id": "Nnx3amomJCLL"
      },
      "outputs": [],
      "source": [
        "data_augmentation= keras.Sequential([\n",
        "    layers.experimental.preprocessing.RandomFlip(\"horizontal\",\n",
        "                                                 input_shape=(img_height,\n",
        "                                                              img_width,\n",
        "                                                              3)),\n",
        "    layers.experimental.preprocessing.RandomRotation(0.1),\n",
        "    layers.experimental.preprocessing.RandomZoom(0.1)\n",
        "])"
      ]
    }
  ],
  "metadata": {
    "colab": {
      "provenance": [],
      "authorship_tag": "ABX9TyPzA1JoUfsMXCqo9IAMcDH2",
      "include_colab_link": true
    },
    "kernelspec": {
      "display_name": "Python 3",
      "name": "python3"
    },
    "language_info": {
      "name": "python"
    }
  },
  "nbformat": 4,
  "nbformat_minor": 0
}